{
  "nbformat": 4,
  "nbformat_minor": 0,
  "metadata": {
    "colab": {
      "name": "ISPR_project.ipynb",
      "version": "0.3.2",
      "provenance": [],
      "collapsed_sections": [],
      "include_colab_link": true
    },
    "kernelspec": {
      "name": "python3",
      "display_name": "Python 3"
    },
    "accelerator": "GPU"
  },
  "cells": [
    {
      "cell_type": "markdown",
      "metadata": {
        "id": "view-in-github",
        "colab_type": "text"
      },
      "source": [
        "<a href=\"https://colab.research.google.com/github/MarioBonse/Sketch-rnn/blob/master/train_colab_notebook.ipynb\" target=\"_parent\"><img src=\"https://colab.research.google.com/assets/colab-badge.svg\" alt=\"Open In Colab\"/></a>"
      ]
    },
    {
      "cell_type": "code",
      "metadata": {
        "id": "7qNPZdlzbl1l",
        "colab_type": "code",
        "outputId": "11e2622c-fa28-46a9-9002-a3e2a9047910",
        "colab": {
          "base_uri": "https://localhost:8080/",
          "height": 70
        }
      },
      "source": [
        "!pip3 install --upgrade --quiet tensorflow-gpu\n",
        "!pip install --upgrade --quiet PyDrive\n",
        "!pip install -U tensorboardcolab\n",
        "!pip install svgwrite"
      ],
      "execution_count": 0,
      "outputs": [
        {
          "output_type": "stream",
          "text": [
            "Requirement already up-to-date: tensorboardcolab in /usr/local/lib/python3.6/dist-packages (0.0.22)\n",
            "Requirement already satisfied: svgwrite in /usr/local/lib/python3.6/dist-packages (1.3.1)\n",
            "Requirement already satisfied: pyparsing>=2.0.1 in /usr/local/lib/python3.6/dist-packages (from svgwrite) (2.4.2)\n"
          ],
          "name": "stdout"
        }
      ]
    },
    {
      "cell_type": "code",
      "metadata": {
        "id": "jYt4wH2giQCr",
        "colab_type": "code",
        "outputId": "55e2a887-8079-4dd6-ee49-b49539f301b8",
        "colab": {
          "base_uri": "https://localhost:8080/",
          "height": 134
        }
      },
      "source": [
        "!git clone https://github.com/MarioBonse/Sketch-rnn.git\n",
        "import os\n",
        "os.chdir(\"Sketch-rnn\")"
      ],
      "execution_count": 1,
      "outputs": [
        {
          "output_type": "stream",
          "text": [
            "Cloning into 'Sketch-rnn'...\n",
            "remote: Enumerating objects: 10, done.\u001b[K\n",
            "remote: Counting objects:  10% (1/10)\u001b[K\rremote: Counting objects:  20% (2/10)\u001b[K\rremote: Counting objects:  30% (3/10)\u001b[K\rremote: Counting objects:  40% (4/10)\u001b[K\rremote: Counting objects:  50% (5/10)\u001b[K\rremote: Counting objects:  60% (6/10)\u001b[K\rremote: Counting objects:  70% (7/10)\u001b[K\rremote: Counting objects:  80% (8/10)\u001b[K\rremote: Counting objects:  90% (9/10)\u001b[K\rremote: Counting objects: 100% (10/10)\u001b[K\rremote: Counting objects: 100% (10/10), done.\u001b[K\n",
            "remote: Compressing objects: 100% (10/10), done.\u001b[K\n",
            "remote: Total 189 (delta 2), reused 6 (delta 0), pack-reused 179\n",
            "Receiving objects: 100% (189/189), 344.17 MiB | 32.69 MiB/s, done.\n",
            "Resolving deltas: 100% (74/74), done.\n"
          ],
          "name": "stdout"
        }
      ]
    },
    {
      "cell_type": "code",
      "metadata": {
        "id": "cfByb0ohor7g",
        "colab_type": "code",
        "outputId": "8eed2eb4-edf6-4976-d33c-007891e2eafd",
        "colab": {
          "base_uri": "https://localhost:8080/",
          "height": 269
        }
      },
      "source": [
        "import data_Manager \n",
        "from HyperParameters import HP\n",
        "import keras\n",
        "import matplotlib.pyplot as plt\n",
        "from train import *\n",
        "import tensorflow as tf\n",
        "from tensorboardcolab import *\n",
        "#import draw\n",
        "\n",
        "#tbc=TensorBoardColab()\n",
        "HP.data_folder = \"data/\"\n",
        "HP.data_name = \"carrot.npz\"\n",
        "HP.data_location = \"data/carrot.npz\"\n",
        "datas = data_Manager.Data()\n",
        "\n",
        "# create the callback for data augmentaion during training\n",
        "train_generator = data_Manager.DataGenerator(datas.train)\n",
        "validation_encoder = datas.valid\n",
        "validation_decoder = data_Manager.create_decoder_input(validation_encoder)\n",
        "vaidation = [validation_encoder, validation_decoder]\n",
        "HP.epochs = 20\n",
        "\n",
        "\n"
      ],
      "execution_count": 5,
      "outputs": [
        {
          "output_type": "stream",
          "text": [
            "remote: Enumerating objects: 6, done.\u001b[K\n",
            "remote: Counting objects:  16% (1/6)\u001b[K\rremote: Counting objects:  33% (2/6)\u001b[K\rremote: Counting objects:  50% (3/6)\u001b[K\rremote: Counting objects:  66% (4/6)\u001b[K\rremote: Counting objects:  83% (5/6)\u001b[K\rremote: Counting objects: 100% (6/6)\u001b[K\rremote: Counting objects: 100% (6/6), done.\u001b[K\n",
            "remote: Compressing objects: 100% (5/5), done.\u001b[K\n",
            "remote: Total 8 (delta 1), reused 5 (delta 1), pack-reused 2\u001b[K\n",
            "Unpacking objects: 100% (8/8), done.\n",
            "From https://github.com/MarioBonse/Sketch-rnn\n",
            "   edc7b57..15889ec  master     -> origin/master\n",
            "Updating edc7b57..15889ec\n",
            "Fast-forward\n",
            " .gitignore      |   7 \u001b[32m+\u001b[m\u001b[31m------\u001b[m\n",
            " data/carrot.npz | Bin \u001b[31m0\u001b[m -> \u001b[32m10052174\u001b[m bytes\n",
            " data/cat.npz    | Bin \u001b[31m0\u001b[m -> \u001b[32m14842947\u001b[m bytes\n",
            " 3 files changed, 1 insertion(+), 6 deletions(-)\n",
            " create mode 100644 data/carrot.npz\n",
            " create mode 100644 data/cat.npz\n"
          ],
          "name": "stdout"
        }
      ]
    },
    {
      "cell_type": "code",
      "metadata": {
        "id": "JMO1HvnekXNi",
        "colab_type": "code",
        "outputId": "fc645849-8ee9-43f5-bbd2-292e61434371",
        "colab": {
          "base_uri": "https://localhost:8080/",
          "height": 178
        }
      },
      "source": [
        "draw.draw_strokes(datas.train[0], svg_filename=\"carrot.svg\")"
      ],
      "execution_count": 0,
      "outputs": [
        {
          "output_type": "display_data",
          "data": {
            "text/plain": [
              "<IPython.core.display.SVG object>"
            ],
            "image/svg+xml": "<svg baseProfile=\"full\" height=\"157.71101111776719\" version=\"1.1\" width=\"89.70702528493959\" xmlns=\"http://www.w3.org/2000/svg\" xmlns:ev=\"http://www.w3.org/2001/xml-events\" xmlns:xlink=\"http://www.w3.org/1999/xlink\"><defs/><rect fill=\"white\" height=\"157.71101111776719\" width=\"89.70702528493959\" x=\"0\" y=\"0\"/><path d=\"M37.32286991601573,127.69058263346449 m-1.1410064737051608,0.0 l-2.0538116526692893,-2.2820129474103217 -7.530642726454062,-14.148480273943994 l-1.597409063187225,-5.020428484302708 0.0,-31.71997996900347 l2.2820129474103217,-7.987045315936125 2.738415536892386,-2.966616831633418 l11.410064737051608,-8.215246610677157 5.020428484302708,-1.369207768446193 l9.812655673864382,0.22820129474103215 2.2820129474103217,2.2820129474103217 l1.1410064737051608,3.19481812637445 0.0,14.148480273943994 l-6.3896362527489,22.59192817936218 -1.369207768446193,2.510214242151354 l-0.9128051789641286,14.148480273943994 -0.9128051789641286,3.8794220105975468 l-6.1614349580078684,13.692077684461928 -2.2820129474103217,2.0538116526692893 l0.0,-2.738415536892386 m-15.061285452908123,-47.009466716652625 l3.6512207158565144,-1.597409063187225 10.269058263346446,-1.1410064737051608 l7.987045315936125,-2.2820129474103217 7.074240136971997,-0.6846038842230965 m-25.78674630573663,24.41753853729044 l1.8256103579282572,0.6846038842230965 9.356253084382319,0.0 l9.58445437912335,-2.738415536892386 m-16.20229192661328,-40.163427874421664 l-7.530642726454062,-5.705032368525804 -0.9128051789641286,-1.597409063187225 l-0.4564025894820643,-17.799700989800506 1.369207768446193,-0.6846038842230965 l1.597409063187225,0.9128051789641286 2.0538116526692893,2.0538116526692893 l2.738415536892386,1.369207768446193 2.966616831633418,3.8794220105975468 l1.369207768446193,0.4564025894820643 1.597409063187225,-3.6512207158565144 l2.2820129474103217,-13.692077684461928 1.369207768446193,0.0 l1.597409063187225,14.604882863426058 0.22820129474103215,1.1410064737051608 l1.1410064737051608,0.22820129474103215 4.107623305338579,-8.215246610677157 l2.738415536892386,-2.510214242151354 5.476831073784772,-2.0538116526692893 l6.617837547489933,-0.6846038842230965 -0.6846038842230965,4.564025894820643 l-2.966616831633418,6.617837547489933 -9.58445437912335,14.604882863426058 \" fill=\"none\" stroke=\"black\" stroke-width=\"1\"/></svg>"
          },
          "metadata": {
            "tags": []
          }
        }
      ]
    },
    {
      "cell_type": "code",
      "metadata": {
        "id": "lvfvYwFXdRTZ",
        "colab_type": "code",
        "outputId": "f5b133c6-80f3-45dd-ca0a-5097b74c6454",
        "colab": {
          "base_uri": "https://localhost:8080/",
          "height": 1000
        }
      },
      "source": [
        "\n",
        "\"\"\"\n",
        "Create the model\n",
        "\n",
        "1. ENCODER\n",
        "\"\"\"\n",
        "encoder_input = tf.keras.layers.Input(batch_shape = (HP.batch_size, None, HP.input_dimention), name = \"encoder_input\" )\n",
        "\n",
        "encoderLSTM = tf.keras.layers.Bidirectional(tf.keras.layers.LSTM(HP.enc_hidden_size, return_sequences=False,\n",
        "    recurrent_dropout=HP.rec_dropout, name = \"LSTM_encoder\"), merge_mode='concat', name = \"BI_LSTM_encoder\")(encoder_input)\n",
        "\n",
        "hidden_state_mean = tf.keras.layers.Dense(HP.latent_dim, activation='linear', name = \"mean_MLP\")(encoderLSTM)\n",
        "\n",
        "variance_hat = tf.keras.layers.Dense(HP.latent_dim, activation='linear', name = \"variance_MLP\")(encoderLSTM)\n",
        "\n",
        "# from mean and variance to latent vairable z\n",
        "z = tf.keras.layers.Lambda(sampling, output_shape=(HP.latent_dim,), name='z')([hidden_state_mean, variance_hat])\n",
        "\n",
        "# create the model with keras\n",
        "encoder = tf.keras.models.Model(encoder_input, [hidden_state_mean, variance_hat, z], name='encoder')\n",
        "encoder.summary()\n",
        "#tf.keras.utils.plot_model(encoder, to_file='vae_mlp_encoder.png', show_shapes=True)\n",
        "\n",
        "\"\"\" \n",
        "DECODER \n",
        "\"\"\"\n",
        "# the decoder LSTM has an input composed by the sequence and also the hidden state\n",
        "decoder_input_sequence = tf.keras.layers.Input(batch_shape = (HP.batch_size, HP.max_seq_length, HP.input_dimention), name = \"decoder_seq_input\" )\n",
        "# we have also the latent variable as input of the LSTM with the sequence\n",
        "inputLatentVariable = tf.keras.layers.RepeatVector(HP.max_seq_length)(z)\n",
        "# so we concatentate the two vector\n",
        "# as input we have the two vector above concatenated\n",
        "totalInput = tf.keras.layers.Concatenate()([decoder_input_sequence, inputLatentVariable])\n",
        "# Create LSTM for generation with input state = tanh(z)\n",
        "decoderLSTM = tf.keras.layers.LSTM(HP.dec_hidden_size, recurrent_dropout=HP.rec_dropout, \n",
        "                                    return_sequences=True, return_state=True, name = \"LSTM_decoder\")\n",
        "#\n",
        "init_state = tf.keras.layers.Dense(units=(2*decoderLSTM.units), activation='tanh', name = \"decoder_init_stat\")(z)\n",
        "h_0, c_0 = tf.split(init_state, num_or_size_splits=2, axis = 1)\n",
        "\n",
        "# creation of the LSTM\n",
        "decoder_output, _, _ = decoderLSTM(totalInput, initial_state = [h_0, c_0])\n",
        "\n",
        "# dense to output. THe dimention is, as explained in the paper equal to 3 + 6*M\n",
        "# 6 times M= number of mixture \n",
        "output_dimention = (3 + HP.M * 6)\n",
        "distribution_output = tf.keras.layers.Dense(output_dimention, name = \"output_layer\")(decoder_output)\n",
        "\n",
        "# Build Keras model\n",
        "seq_to_seq_VAE = tf.keras.models.Model([encoder_input, decoder_input_sequence], distribution_output)\n",
        "seq_to_seq_VAE.summary()\n",
        "\n"
      ],
      "execution_count": 6,
      "outputs": [
        {
          "output_type": "stream",
          "text": [
            "WARNING: Logging before flag parsing goes to stderr.\n",
            "W0827 01:10:47.664777 140392123692928 deprecation.py:506] From /usr/local/lib/python3.6/dist-packages/tensorflow/python/ops/init_ops.py:1251: calling VarianceScaling.__init__ (from tensorflow.python.ops.init_ops) with dtype is deprecated and will be removed in a future version.\n",
            "Instructions for updating:\n",
            "Call initializer instance with the dtype argument instead of passing it to the constructor\n",
            "W0827 01:10:47.673987 140392123692928 deprecation.py:506] From /usr/local/lib/python3.6/dist-packages/tensorflow/python/ops/init_ops.py:97: calling GlorotUniform.__init__ (from tensorflow.python.ops.init_ops) with dtype is deprecated and will be removed in a future version.\n",
            "Instructions for updating:\n",
            "Call initializer instance with the dtype argument instead of passing it to the constructor\n",
            "W0827 01:10:47.675418 140392123692928 deprecation.py:506] From /usr/local/lib/python3.6/dist-packages/tensorflow/python/ops/init_ops.py:97: calling Orthogonal.__init__ (from tensorflow.python.ops.init_ops) with dtype is deprecated and will be removed in a future version.\n",
            "Instructions for updating:\n",
            "Call initializer instance with the dtype argument instead of passing it to the constructor\n",
            "W0827 01:10:47.678017 140392123692928 deprecation.py:506] From /usr/local/lib/python3.6/dist-packages/tensorflow/python/ops/init_ops.py:97: calling Zeros.__init__ (from tensorflow.python.ops.init_ops) with dtype is deprecated and will be removed in a future version.\n",
            "Instructions for updating:\n",
            "Call initializer instance with the dtype argument instead of passing it to the constructor\n"
          ],
          "name": "stderr"
        },
        {
          "output_type": "stream",
          "text": [
            "Model: \"encoder\"\n",
            "__________________________________________________________________________________________________\n",
            "Layer (type)                    Output Shape         Param #     Connected to                     \n",
            "==================================================================================================\n",
            "encoder_input (InputLayer)      [(100, None, 5)]     0                                            \n",
            "__________________________________________________________________________________________________\n",
            "BI_LSTM_encoder (Bidirectional) (100, 512)           536576      encoder_input[0][0]              \n",
            "__________________________________________________________________________________________________\n",
            "mean_MLP (Dense)                (100, 256)           131328      BI_LSTM_encoder[0][0]            \n",
            "__________________________________________________________________________________________________\n",
            "variance_MLP (Dense)            (100, 256)           131328      BI_LSTM_encoder[0][0]            \n",
            "__________________________________________________________________________________________________\n",
            "z (Lambda)                      (100, 256)           0           mean_MLP[0][0]                   \n",
            "                                                                 variance_MLP[0][0]               \n",
            "==================================================================================================\n",
            "Total params: 799,232\n",
            "Trainable params: 799,232\n",
            "Non-trainable params: 0\n",
            "__________________________________________________________________________________________________\n",
            "Model: \"model\"\n",
            "__________________________________________________________________________________________________\n",
            "Layer (type)                    Output Shape         Param #     Connected to                     \n",
            "==================================================================================================\n",
            "encoder_input (InputLayer)      [(100, None, 5)]     0                                            \n",
            "__________________________________________________________________________________________________\n",
            "BI_LSTM_encoder (Bidirectional) (100, 512)           536576      encoder_input[0][0]              \n",
            "__________________________________________________________________________________________________\n",
            "mean_MLP (Dense)                (100, 256)           131328      BI_LSTM_encoder[0][0]            \n",
            "__________________________________________________________________________________________________\n",
            "variance_MLP (Dense)            (100, 256)           131328      BI_LSTM_encoder[0][0]            \n",
            "__________________________________________________________________________________________________\n",
            "z (Lambda)                      (100, 256)           0           mean_MLP[0][0]                   \n",
            "                                                                 variance_MLP[0][0]               \n",
            "__________________________________________________________________________________________________\n",
            "decoder_seq_input (InputLayer)  [(100, 200, 5)]      0                                            \n",
            "__________________________________________________________________________________________________\n",
            "repeat_vector (RepeatVector)    (100, 200, 256)      0           z[0][0]                          \n",
            "__________________________________________________________________________________________________\n",
            "concatenate (Concatenate)       (100, 200, 261)      0           decoder_seq_input[0][0]          \n",
            "                                                                 repeat_vector[0][0]              \n",
            "__________________________________________________________________________________________________\n",
            "LSTM_decoder (LSTM)             [(100, 200, 512), (1 1585152     concatenate[0][0]                \n",
            "__________________________________________________________________________________________________\n",
            "output_layer (Dense)            (100, 200, 123)      63099       LSTM_decoder[0][0]               \n",
            "==================================================================================================\n",
            "Total params: 2,447,483\n",
            "Trainable params: 2,447,483\n",
            "Non-trainable params: 0\n",
            "__________________________________________________________________________________________________\n"
          ],
          "name": "stdout"
        }
      ]
    },
    {
      "cell_type": "markdown",
      "metadata": {
        "id": "_6-ojE94Od9m",
        "colab_type": "text"
      },
      "source": [
        "Define the loss"
      ]
    },
    {
      "cell_type": "code",
      "metadata": {
        "id": "O8kUj1hlOb_C",
        "colab_type": "code",
        "colab": {}
      },
      "source": [
        "    KL_weight = tf.keras.backend.variable(0.01, name = 'kl_weight')\n",
        "    KL_wheight_schedule = data_Manager.changing_KL_wheight(KL_weight)\n",
        "    def vae_loss(y_true, y_pred):\n",
        "        \"\"\" Calculate loss = reconstruction loss + KL loss for each data in minibatch \"\"\"\n",
        "        # E[log P(X|z)]\n",
        "        recon = reconstruction_loss(y_true, y_pred)\n",
        "        # D_KL(Q(z|X) || P(z|X)); calculate in closed form as both dist. are Gaussian\n",
        "        kl = kl_loss(hidden_state_mean, variance_hat)\n",
        "\n",
        "        return recon + kl*KL_weight"
      ],
      "execution_count": 0,
      "outputs": []
    },
    {
      "cell_type": "code",
      "metadata": {
        "id": "XtTfyMSsUOQ0",
        "colab_type": "code",
        "colab": {}
      },
      "source": [
        "optimizer = tf.keras.optimizers.Adam(lr = HP.lr, clipvalue= HP.grad_clip)\n",
        "seq_to_seq_VAE.compile(optimizer=optimizer,  loss = vae_loss)\n"
      ],
      "execution_count": 0,
      "outputs": []
    },
    {
      "cell_type": "code",
      "metadata": {
        "id": "DacL6r3Dd4um",
        "colab_type": "code",
        "outputId": "9881efd1-7701-4f29-b84d-240f7450325f",
        "colab": {
          "base_uri": "https://localhost:8080/",
          "height": 34
        }
      },
      "source": [
        "device_name = tf.test.gpu_device_name()\n",
        "if device_name != '/device:GPU:0':\n",
        "  raise SystemError('GPU device not found')\n",
        "print('Found GPU at: {}'.format(device_name))"
      ],
      "execution_count": 9,
      "outputs": [
        {
          "output_type": "stream",
          "text": [
            "Found GPU at: /device:GPU:0\n"
          ],
          "name": "stdout"
        }
      ]
    },
    {
      "cell_type": "code",
      "metadata": {
        "id": "7axRtgETdjwG",
        "colab_type": "code",
        "outputId": "473f9ec0-4df4-49d6-e820-ca7009442570",
        "colab": {
          "base_uri": "https://localhost:8080/",
          "height": 794
        }
      },
      "source": [
        "with tf.device('/device:GPU:0'):\n",
        "  history = seq_to_seq_VAE.fit_generator(train_generator,\n",
        "                       validation_data= ([validation_encoder, validation_decoder],[validation_encoder]),\n",
        "                       steps_per_epoch=(datas.trainDimention)/HP.batch_size, \n",
        "                       epochs=HP.epochs, \n",
        "                       callbacks=[KL_wheight_schedule])\n",
        "# save the model\n",
        "seq_to_seq_VAE.save_weights(\"model_weight_carrot_20_epochs.h5\")"
      ],
      "execution_count": 0,
      "outputs": [
        {
          "output_type": "stream",
          "text": [
            "W0825 10:37:28.271658 140462281566080 deprecation.py:323] From /usr/local/lib/python3.6/dist-packages/tensorflow/python/ops/math_grad.py:1250: add_dispatch_support.<locals>.wrapper (from tensorflow.python.ops.array_ops) is deprecated and will be removed in a future version.\n",
            "Instructions for updating:\n",
            "Use tf.where in 2.0, which has the same broadcast rule as np.where\n"
          ],
          "name": "stderr"
        },
        {
          "output_type": "stream",
          "text": [
            "Epoch 1/20\n",
            "700/700 [==============================] - 901s 1s/step - loss: 0.8152 - val_loss: 0.6498\n",
            "Epoch 2/20\n",
            "700/700 [==============================] - 896s 1s/step - loss: 0.6140 - val_loss: 0.5962\n",
            "Epoch 3/20\n",
            "700/700 [==============================] - 896s 1s/step - loss: 0.5780 - val_loss: 0.5701\n",
            "Epoch 4/20\n",
            "700/700 [==============================] - 892s 1s/step - loss: 0.5584 - val_loss: 0.5552\n",
            "Epoch 5/20\n",
            "700/700 [==============================] - 894s 1s/step - loss: 0.5452 - val_loss: 0.5444\n",
            "Epoch 6/20\n",
            "700/700 [==============================] - 894s 1s/step - loss: 0.5355 - val_loss: 0.5357\n",
            "Epoch 7/20\n",
            "700/700 [==============================] - 895s 1s/step - loss: 0.5278 - val_loss: 0.5293\n",
            "Epoch 8/20\n",
            "700/700 [==============================] - 893s 1s/step - loss: 0.5214 - val_loss: 0.5236\n",
            "Epoch 9/20\n",
            "700/700 [==============================] - 894s 1s/step - loss: 0.5166 - val_loss: 0.5203\n",
            "Epoch 10/20\n",
            "700/700 [==============================] - 894s 1s/step - loss: 0.5121 - val_loss: 0.5154\n",
            "Epoch 11/20\n",
            "700/700 [==============================] - 894s 1s/step - loss: 0.5089 - val_loss: 0.5208\n",
            "Epoch 12/20\n",
            "700/700 [==============================] - 894s 1s/step - loss: 0.5068 - val_loss: 0.5101\n",
            "Epoch 13/20\n",
            "700/700 [==============================] - 893s 1s/step - loss: 0.5028 - val_loss: 0.5077\n",
            "Epoch 14/20\n",
            "700/700 [==============================] - 895s 1s/step - loss: 0.5002 - val_loss: 0.5052\n",
            "Epoch 15/20\n",
            "700/700 [==============================] - 894s 1s/step - loss: 0.4980 - val_loss: 0.5037\n",
            "Epoch 16/20\n",
            "700/700 [==============================] - 893s 1s/step - loss: 0.4957 - val_loss: 0.5016\n",
            "Epoch 17/20\n",
            "700/700 [==============================] - 887s 1s/step - loss: 0.4937 - val_loss: 0.5000\n",
            "Epoch 18/20\n",
            "700/700 [==============================] - 890s 1s/step - loss: 0.4919 - val_loss: 0.4987\n",
            "Epoch 19/20\n",
            "700/700 [==============================] - 898s 1s/step - loss: 0.4902 - val_loss: 0.4974\n",
            "Epoch 20/20\n",
            "700/700 [==============================] - 900s 1s/step - loss: 0.4887 - val_loss: 0.4966\n"
          ],
          "name": "stdout"
        }
      ]
    },
    {
      "cell_type": "markdown",
      "metadata": {
        "id": "q8auMLOlPF05",
        "colab_type": "text"
      },
      "source": [
        "Plot the history"
      ]
    },
    {
      "cell_type": "code",
      "metadata": {
        "id": "OMOfu0LYgLZt",
        "colab_type": "code",
        "outputId": "43af4fc3-9ff1-4c1f-a7a7-87c911983764",
        "colab": {
          "base_uri": "https://localhost:8080/",
          "height": 312
        }
      },
      "source": [
        "import matplotlib.pyplot as plt\n",
        "import numpy as np\n",
        "print(history.history.keys())\n",
        "# summarize history for loss\n",
        "plt.plot(history.history['loss'])\n",
        "plt.plot(history.history['val_loss'])\n",
        "plt.title('model loss')\n",
        "plt.ylabel('loss')\n",
        "plt.xlabel('epoch')\n",
        "plt.legend(['train', 'test'], loc='upper left')\n",
        "plt.show()"
      ],
      "execution_count": 0,
      "outputs": [
        {
          "output_type": "stream",
          "text": [
            "dict_keys(['loss', 'val_loss'])\n"
          ],
          "name": "stdout"
        },
        {
          "output_type": "display_data",
          "data": {
            "image/png": "[encoded data removed]",
            "text/plain": [
              "<Figure size 432x288 with 1 Axes>"
            ]
          },
          "metadata": {
            "tags": []
          }
        }
      ]
    },
    {
      "cell_type": "code",
      "metadata": {
        "id": "kJFbuw9GAK2l",
        "colab_type": "code",
        "colab": {}
      },
      "source": [
        "seq_to_seq_VAE.load_weights(\"model_weight_carrot_20_epochs.h5\", by_name = True)\n"
      ],
      "execution_count": 0,
      "outputs": []
    },
    {
      "cell_type": "code",
      "metadata": {
        "id": "Fy_NJOcr-SH3",
        "colab_type": "code",
        "outputId": "3c32ae0c-7560-4ac2-a94d-a5eeee192ea8",
        "colab": {
          "base_uri": "https://localhost:8080/",
          "height": 1000
        }
      },
      "source": [
        "HP.epocs = 50\n",
        "with tf.device('/device:GPU:0'):\n",
        "  history = seq_to_seq_VAE.fit_generator(train_generator,\n",
        "                       validation_data= ([validation_encoder, validation_decoder],[validation_encoder]),\n",
        "                       steps_per_epoch=(datas.trainDimention)/HP.batch_size, \n",
        "                       epochs=50, \n",
        "                       callbacks=[KL_wheight_schedule], initial_epoch = 20)\n",
        "# save the model\n",
        "seq_to_seq_VAE.save_weights(\"model_weight_carrot_50_epochs.h5\")\n"
      ],
      "execution_count": 0,
      "outputs": [
        {
          "output_type": "stream",
          "text": [
            "W0826 16:55:22.563134 139747641997184 deprecation.py:323] From /usr/local/lib/python3.6/dist-packages/tensorflow/python/ops/math_grad.py:1250: add_dispatch_support.<locals>.wrapper (from tensorflow.python.ops.array_ops) is deprecated and will be removed in a future version.\n",
            "Instructions for updating:\n",
            "Use tf.where in 2.0, which has the same broadcast rule as np.where\n"
          ],
          "name": "stderr"
        },
        {
          "output_type": "stream",
          "text": [
            "Epoch 21/50\n",
            "700/700 [==============================] - 885s 1s/step - loss: 0.4881 - val_loss: 0.4952\n",
            "Epoch 22/50\n",
            "700/700 [==============================] - 883s 1s/step - loss: 0.4862 - val_loss: 0.4939\n",
            "Epoch 23/50\n",
            "700/700 [==============================] - 882s 1s/step - loss: 0.4849 - val_loss: 0.4934\n",
            "Epoch 24/50\n",
            "700/700 [==============================] - 883s 1s/step - loss: 0.4836 - val_loss: 0.4920\n",
            "Epoch 25/50\n",
            "700/700 [==============================] - 885s 1s/step - loss: 0.4824 - val_loss: 0.4916\n",
            "Epoch 26/50\n",
            "700/700 [==============================] - 882s 1s/step - loss: 0.4815 - val_loss: 0.4905\n",
            "Epoch 27/50\n",
            "700/700 [==============================] - 881s 1s/step - loss: 0.4804 - val_loss: 0.4895\n",
            "Epoch 28/50\n",
            "700/700 [==============================] - 883s 1s/step - loss: 0.4794 - val_loss: 0.4890\n",
            "Epoch 29/50\n",
            "700/700 [==============================] - 880s 1s/step - loss: 0.4787 - val_loss: 0.4888\n",
            "Epoch 30/50\n",
            "700/700 [==============================] - 882s 1s/step - loss: 0.4779 - val_loss: 0.4877\n",
            "Epoch 31/50\n",
            "700/700 [==============================] - 882s 1s/step - loss: 0.4770 - val_loss: 0.4881\n",
            "Epoch 32/50\n",
            "700/700 [==============================] - 882s 1s/step - loss: 0.4765 - val_loss: 0.4868\n",
            "Epoch 33/50\n",
            "700/700 [==============================] - 880s 1s/step - loss: 0.4762 - val_loss: 0.4865\n",
            "Epoch 34/50\n",
            "700/700 [==============================] - 878s 1s/step - loss: 0.4754 - val_loss: 0.4866\n",
            "Epoch 35/50\n",
            "700/700 [==============================] - 876s 1s/step - loss: 0.4746 - val_loss: 0.4855\n",
            "Epoch 36/50\n",
            "700/700 [==============================] - 880s 1s/step - loss: 0.4740 - val_loss: 0.4857\n",
            "Epoch 37/50\n",
            "700/700 [==============================] - 880s 1s/step - loss: 0.4733 - val_loss: 0.4849\n",
            "Epoch 38/50\n",
            "700/700 [==============================] - 879s 1s/step - loss: 0.4731 - val_loss: 0.4847\n",
            "Epoch 39/50\n",
            "700/700 [==============================] - 880s 1s/step - loss: 0.4723 - val_loss: 0.4842\n",
            "Epoch 40/50\n",
            "700/700 [==============================] - 880s 1s/step - loss: 0.4718 - val_loss: 0.4842\n",
            "Epoch 41/50\n",
            "700/700 [==============================] - 880s 1s/step - loss: 0.4714 - val_loss: 0.4833\n",
            "Epoch 42/50\n",
            "700/700 [==============================] - 877s 1s/step - loss: 0.4708 - val_loss: 0.4836\n",
            "Epoch 43/50\n",
            "700/700 [==============================] - 880s 1s/step - loss: 0.4704 - val_loss: 0.4831\n",
            "Epoch 44/50\n",
            "700/700 [==============================] - 880s 1s/step - loss: 0.4700 - val_loss: 0.4823\n",
            "Epoch 45/50\n",
            "700/700 [==============================] - 883s 1s/step - loss: 0.4734 - val_loss: 0.4862\n",
            "Epoch 46/50\n",
            "700/700 [==============================] - 879s 1s/step - loss: 0.4720 - val_loss: 0.4828\n",
            "Epoch 47/50\n",
            "700/700 [==============================] - 880s 1s/step - loss: 0.4698 - val_loss: 0.4822\n",
            "Epoch 48/50\n",
            "700/700 [==============================] - 879s 1s/step - loss: 0.4687 - val_loss: 0.4816\n",
            "Epoch 49/50\n",
            "700/700 [==============================] - 880s 1s/step - loss: 0.4682 - val_loss: 0.4816\n",
            "Epoch 50/50\n",
            "700/700 [==============================] - 879s 1s/step - loss: 0.4678 - val_loss: 0.4813\n"
          ],
          "name": "stdout"
        }
      ]
    },
    {
      "cell_type": "code",
      "metadata": {
        "id": "N2kRnCnZ_a7t",
        "colab_type": "code",
        "outputId": "8cca2e3b-611d-472f-fd40-4261472b64c3",
        "colab": {
          "base_uri": "https://localhost:8080/",
          "height": 313
        }
      },
      "source": [
        "import matplotlib.pyplot as plt\n",
        "import numpy as np\n",
        "print(history.history.keys())\n",
        "# summarize history for loss\n",
        "plt.plot(history.history['loss'])\n",
        "plt.plot(history.history['val_loss'])\n",
        "plt.title('model loss')\n",
        "plt.ylabel('loss')\n",
        "plt.xlabel('epoch')\n",
        "plt.legend(['train', 'test'], loc='upper left')\n",
        "plt.show()"
      ],
      "execution_count": 0,
      "outputs": [
        {
          "output_type": "stream",
          "text": [
            "dict_keys(['loss', 'val_loss'])\n"
          ],
          "name": "stdout"
        },
        {
          "output_type": "display_data",
          "data": {
            "image/png": "[encoded data removed]",
            "text/plain": [
              "<Figure size 432x288 with 1 Axes>"
            ]
          },
          "metadata": {
            "tags": []
          }
        }
      ]
    },
    {
      "cell_type": "code",
      "metadata": {
        "id": "e6Ix-Ij6-SQO",
        "colab_type": "code",
        "colab": {}
      },
      "source": [
        ""
      ],
      "execution_count": 0,
      "outputs": []
    }
  ]
}