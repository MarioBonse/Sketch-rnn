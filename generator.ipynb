{
 "cells": [
  {
   "cell_type": "code",
   "execution_count": 1,
   "metadata": {},
   "outputs": [
    {
     "name": "stderr",
     "output_type": "stream",
     "text": [
      "Using TensorFlow backend.\n"
     ]
    }
   ],
   "source": [
    "import draw\n",
    "import data_Manager\n",
    "import matplotlib.pyplot as plt\n",
    "import tensorflow as tf\n",
    "import numpy as np\n",
    "from HyperParameters import HP\n",
    "import train as tu\n",
    "import generate as g\n",
    "model_name = \"model_weight_cat_20_epochs\""
   ]
  },
  {
   "cell_type": "code",
   "execution_count": 2,
   "metadata": {},
   "outputs": [
    {
     "name": "stderr",
     "output_type": "stream",
     "text": [
      "WARNING: Logging before flag parsing goes to stderr.\n",
      "W0827 03:36:35.700091 140259093956416 deprecation.py:506] From /home/mario/git/Sketch-rnn/venv/lib/python3.6/site-packages/tensorflow/python/ops/init_ops.py:1251: calling VarianceScaling.__init__ (from tensorflow.python.ops.init_ops) with dtype is deprecated and will be removed in a future version.\n",
      "Instructions for updating:\n",
      "Call initializer instance with the dtype argument instead of passing it to the constructor\n"
     ]
    },
    {
     "name": "stdout",
     "output_type": "stream",
     "text": [
      "Model: \"model\"\n",
      "_________________________________________________________________\n",
      "Layer (type)                 Output Shape              Param #   \n",
      "=================================================================\n",
      "input_1 (InputLayer)         [(None, 256)]             0         \n",
      "_________________________________________________________________\n",
      "decoder_init_stat (Dense)    (None, 1024)              263168    \n",
      "=================================================================\n",
      "Total params: 263,168\n",
      "Trainable params: 263,168\n",
      "Non-trainable params: 0\n",
      "_________________________________________________________________\n"
     ]
    }
   ],
   "source": [
    "# model for predicting the inital state \n",
    "batch_z = tf.keras.Input(shape=(HP.latent_dim,))\n",
    "initial_state = tf.keras.layers.Dense(units=(2*HP.dec_hidden_size), activation='tanh', name = \"decoder_init_stat\")(batch_z)\n",
    "latent_to_hidden_state_model = tf.keras.Model(inputs=batch_z, outputs=initial_state)\n",
    "latent_to_hidden_state_model.load_weights(\"model/\"+model_name+\".h5\", by_name = True)\n",
    "latent_to_hidden_state_model.summary()"
   ]
  },
  {
   "cell_type": "code",
   "execution_count": 3,
   "metadata": {},
   "outputs": [
    {
     "name": "stdout",
     "output_type": "stream",
     "text": [
      "Model: \"model_1\"\n",
      "__________________________________________________________________________________________________\n",
      "Layer (type)                    Output Shape         Param #     Connected to                     \n",
      "==================================================================================================\n",
      "input_2 (InputLayer)            [(None, 1, 261)]     0                                            \n",
      "__________________________________________________________________________________________________\n",
      "input_3 (InputLayer)            [(None, 512)]        0                                            \n",
      "__________________________________________________________________________________________________\n",
      "input_4 (InputLayer)            [(None, 512)]        0                                            \n",
      "__________________________________________________________________________________________________\n",
      "LSTM_decoder (LSTM)             [(None, 1, 512), (No 1585152     input_2[0][0]                    \n",
      "                                                                 input_3[0][0]                    \n",
      "                                                                 input_4[0][0]                    \n",
      "__________________________________________________________________________________________________\n",
      "output_layer (Dense)            (None, 1, 123)       63099       LSTM_decoder[0][0]               \n",
      "==================================================================================================\n",
      "Total params: 1,648,251\n",
      "Trainable params: 1,648,251\n",
      "Non-trainable params: 0\n",
      "__________________________________________________________________________________________________\n"
     ]
    }
   ],
   "source": [
    "# create the LSTM for generating\n",
    "\"\"\"\n",
    "We have 3 input tensor. The input of the LSTM and the hidden states \n",
    "\"\"\"\n",
    "decoder_input = tf.keras.Input(shape=(1, 5 + HP.latent_dim))\n",
    "initial_h_input = tf.keras.Input(shape=(HP.dec_hidden_size,))\n",
    "initial_c_input = tf.keras.Input(shape=(HP.dec_hidden_size,))\n",
    "# now the LSTM\n",
    "decoderLSTM = tf.keras.layers.LSTM(HP.dec_hidden_size, recurrent_dropout=HP.rec_dropout, \n",
    "                                    return_sequences=True, return_state=True, name = \"LSTM_decoder\")\n",
    "\n",
    "# creation of the LSTM\n",
    "decoder_output, h_new, c_new = decoderLSTM(decoder_input, initial_state = [initial_h_input, initial_c_input])\n",
    "# dense to output. THe dimention is, as explained in the paper equal to 3 + 6*M\n",
    "# 6 times M= number of mixture \n",
    "output_dimention = (3 + HP.M * 6)\n",
    "distribution_output = tf.keras.layers.Dense(output_dimention, name = \"output_layer\")(decoder_output)\n",
    "\n",
    "# Now we load the weights from the trained model\n",
    "generator = tf.keras.models.Model([decoder_input, initial_h_input, initial_c_input], outputs =[ distribution_output , h_new, c_new])\n",
    "generator.summary()\n",
    "generator.load_weights(\"model/\"+model_name+\".h5\", by_name = True)\n",
    "generator.build(tf.TensorShape([1, None])) "
   ]
  },
  {
   "cell_type": "code",
   "execution_count": 4,
   "metadata": {},
   "outputs": [
    {
     "name": "stderr",
     "output_type": "stream",
     "text": [
      "W0827 03:36:41.703675 140259093956416 deprecation.py:506] From /home/mario/git/Sketch-rnn/venv/lib/python3.6/site-packages/tensorflow/python/ops/init_ops.py:97: calling GlorotUniform.__init__ (from tensorflow.python.ops.init_ops) with dtype is deprecated and will be removed in a future version.\n",
      "Instructions for updating:\n",
      "Call initializer instance with the dtype argument instead of passing it to the constructor\n",
      "W0827 03:36:41.704904 140259093956416 deprecation.py:506] From /home/mario/git/Sketch-rnn/venv/lib/python3.6/site-packages/tensorflow/python/ops/init_ops.py:97: calling Orthogonal.__init__ (from tensorflow.python.ops.init_ops) with dtype is deprecated and will be removed in a future version.\n",
      "Instructions for updating:\n",
      "Call initializer instance with the dtype argument instead of passing it to the constructor\n",
      "W0827 03:36:41.705897 140259093956416 deprecation.py:506] From /home/mario/git/Sketch-rnn/venv/lib/python3.6/site-packages/tensorflow/python/ops/init_ops.py:97: calling Zeros.__init__ (from tensorflow.python.ops.init_ops) with dtype is deprecated and will be removed in a future version.\n",
      "Instructions for updating:\n",
      "Call initializer instance with the dtype argument instead of passing it to the constructor\n"
     ]
    },
    {
     "name": "stdout",
     "output_type": "stream",
     "text": [
      "Model: \"model_2\"\n",
      "__________________________________________________________________________________________________\n",
      "Layer (type)                    Output Shape         Param #     Connected to                     \n",
      "==================================================================================================\n",
      "encoder_input (InputLayer)      [(None, 200, 5)]     0                                            \n",
      "__________________________________________________________________________________________________\n",
      "BI_LSTM_encoder (Bidirectional) (None, 512)          536576      encoder_input[0][0]              \n",
      "__________________________________________________________________________________________________\n",
      "mean_MLP (Dense)                (None, 256)          131328      BI_LSTM_encoder[0][0]            \n",
      "__________________________________________________________________________________________________\n",
      "variance_MLP (Dense)            (None, 256)          131328      BI_LSTM_encoder[0][0]            \n",
      "==================================================================================================\n",
      "Total params: 799,232\n",
      "Trainable params: 799,232\n",
      "Non-trainable params: 0\n",
      "__________________________________________________________________________________________________\n"
     ]
    }
   ],
   "source": [
    "\"\"\"\n",
    "Create the encoder that embed the z\n",
    "\"\"\"\n",
    "encoder_input = tf.keras.layers.Input(shape = (HP.max_seq_length, HP.input_dimention), name = \"encoder_input\" )\n",
    "\n",
    "encoderLSTM = tf.keras.layers.Bidirectional(tf.keras.layers.LSTM(HP.enc_hidden_size, return_sequences=False,\n",
    "    recurrent_dropout=HP.rec_dropout, name = \"LSTM_encoder\"), merge_mode='concat', name = \"BI_LSTM_encoder\")(encoder_input)\n",
    "\n",
    "hidden_state_mean = tf.keras.layers.Dense(HP.latent_dim, activation='linear', name = \"mean_MLP\")(encoderLSTM)\n",
    "\n",
    "hidden_state_variance = tf.keras.layers.Dense(HP.latent_dim, activation='linear', name = \"variance_MLP\")(encoderLSTM)\n",
    "# Now we load the weights from the trained model\n",
    "encoder = tf.keras.models.Model(encoder_input,[hidden_state_mean, hidden_state_variance])\n",
    "encoder.summary()\n",
    "encoder.load_weights(\"model/\"+model_name+\".h5\", by_name = True)"
   ]
  },
  {
   "cell_type": "code",
   "execution_count": 11,
   "metadata": {},
   "outputs": [],
   "source": [
    "HP.data_location = \"data/cat.npz\"\n",
    "datas = data_Manager.Data()"
   ]
  },
  {
   "cell_type": "code",
   "execution_count": 15,
   "metadata": {},
   "outputs": [
    {
     "data": {
      "image/svg+xml": [
       "<svg baseProfile=\"full\" height=\"133.29542965214233\" version=\"1.1\" width=\"108.73899402356263\" xmlns=\"http://www.w3.org/2000/svg\" xmlns:ev=\"http://www.w3.org/2001/xml-events\" xmlns:xlink=\"http://www.w3.org/1999/xlink\"><defs/><rect fill=\"white\" height=\"133.29542965214233\" width=\"108.73899402356263\" x=\"0\" y=\"0\"/><path d=\"M36.001283161603695,60.95062176024068 m-0.5893544550859128,-1.5716118802291006 l0.39290297005727515,-7.465156431088229 2.7503207904009264,1.5716118802291006 l3.9290297005727517,5.107738610744577 4.3219326706300265,-2.7503207904009264 l1.9645148502863758,-0.5893544550859128 10.019025736460518,0.0 l6.089996035887766,-0.9822574251431879 2.357417820343651,0.5893544550859128 l0.9822574251431879,-1.1787089101718256 1.3751603952004632,-4.125481185601389 l0.9822574251431879,-0.5893544550859128 1.7680633652577384,6.089996035887766 l0.0,17.87708513760602 -0.39290297005727515,1.5716118802291006 l-2.357417820343651,2.1609663353150133 -8.643865341260053,4.3219326706300265 l-10.019025736460518,0.39290297005727515 -3.3396752454868395,-0.7858059401145503 l-2.1609663353150133,-0.9822574251431879 -8.250962371202778,-6.089996035887766 l-2.1609663353150133,-2.5538693053722885 -0.9822574251431879,-2.9467722754295638 l0.0,-2.9467722754295638 0.5893544550859128,-2.7503207904009264 l1.7680633652577384,-3.536126730515477 m8.643865341260053,8.05451088617414 l1.5716118802291006,4.714835640687302 m16.30547325737692,-9.626122766403242 l0.39290297005727515,7.072253461030954 0.9822574251431879,1.7680633652577384 m-14.53740989211918,2.9467722754295638 l8.447413856231417,-0.5893544550859128 m-3.536126730515477,0.0 l-0.19645148502863757,7.072253461030954 m-8.250962371202778,-35.55771879018341 l0.19645148502863757,-7.072253461030954 2.5538693053722885,0.19645148502863757 l4.3219326706300265,2.7503207904009264 2.5538693053722885,0.5893544550859128 l-0.5893544550859128,-6.679350490973679 0.5893544550859128,4.91128712571594 l1.7680633652577384,2.7503207904009264 1.9645148502863758,1.1787089101718256 m0.9822574251431879,-5.500641580801853 l3.143223760458201,-2.5538693053722885 0.5893544550859128,-1.5716118802291006 l-1.7680633652577384,0.0 -1.7680633652577384,1.7680633652577384 l-0.5893544550859128,1.5716118802291006 1.9645148502863758,2.357417820343651 l4.91128712571594,0.19645148502863757 0.9822574251431879,-0.5893544550859128 m0.39290297005727515,-6.089996035887766 l-1.3751603952004632,2.357417820343651 0.7858059401145503,2.5538693053722885 l1.7680633652577384,0.0 1.5716118802291006,-1.1787089101718256 l1.1787089101718256,-2.357417820343651 -0.7858059401145503,-2.1609663353150133 l-1.7680633652577384,-0.5893544550859128 m5.500641580801853,-1.7680633652577384 l2.357417820343651,6.089996035887766 1.3751603952004632,-6.679350490973679 l4.3219326706300265,4.91128712571594 0.39290297005727515,-9.036768311317328 m-40.861908885956616,53.63125541281806 l-2.5538693053722885,8.840316826288692 -0.5893544550859128,8.05451088617414 l0.9822574251431879,5.304190095773215 3.9290297005727517,7.465156431088229 m23.96708117349379,-35.36126730515477 l0.39290297005727515,6.8758019760023155 2.357417820343651,14.930312862176457 l0.39290297005727515,9.82257425143188 m-31.82514057463929,-16.30547325737692 l-6.679350490973679,-24.752887113608335 -1.1787089101718256,-1.1787089101718256 l-3.143223760458201,0.7858059401145503 -3.143223760458201,5.69709306583049 l-0.19645148502863757,8.05451088617414 3.536126730515477,11.983540586746894 l3.143223760458201,6.089996035887766 6.482899005945041,8.643865341260053 m-13.751603952004631,-20.038051472921037 l2.357417820343651,0.19645148502863757 5.304190095773215,-2.5538693053722885 l2.1609663353150133,-1.7680633652577384 1.7680633652577384,-3.536126730515477 m12.769346526861444,12.376443556804167 l0.39290297005727515,10.804831676575068 1.3751603952004632,5.69709306583049 m9.626122766403242,-20.823857413035583 l-0.5893544550859128,2.357417820343651 0.0,12.965798011890081 l0.5893544550859128,4.125481185601389 \" fill=\"none\" stroke=\"black\" stroke-width=\"1\"/></svg>"
      ],
      "text/plain": [
       "<IPython.core.display.SVG object>"
      ]
     },
     "metadata": {},
     "output_type": "display_data"
    }
   ],
   "source": [
    "import random\n",
    "x = datas.train[0]\n",
    "x_2 = np.expand_dims(x, axis = 0)\n",
    "mean, variance = encoder.predict(x_2)\n",
    "latent = np.random.rand(1,HP.latent_dim)*np.exp(variance/2)+mean\n",
    "draw.draw_strokes(x, svg_filename=\"results/cat_original.svg\")"
   ]
  },
  {
   "cell_type": "code",
   "execution_count": 17,
   "metadata": {},
   "outputs": [
    {
     "name": "stdout",
     "output_type": "stream",
     "text": [
      "end of sketch\n"
     ]
    },
    {
     "data": {
      "image/svg+xml": [
       "<svg baseProfile=\"full\" height=\"113.80447851223607\" version=\"1.1\" width=\"103.7194959040198\" xmlns=\"http://www.w3.org/2000/svg\" xmlns:ev=\"http://www.w3.org/2001/xml-events\" xmlns:xlink=\"http://www.w3.org/1999/xlink\"><defs/><rect fill=\"white\" height=\"113.80447851223607\" width=\"103.7194959040198\" x=\"0\" y=\"0\"/><path d=\"M41.024772324876864,40.90309817542607 m-4.058901612454425,0.32774592485827786 l-2.942781900613121,0.9078664580481449 -3.1287377943328485,1.2337416432220654 l-3.363252945488915,5.035383505406137 -1.0288817216913182,3.621234557291556 l-0.19382206241869823,7.857374651632781 0.888066311709247,6.090523830298061 l1.2399638639628174,6.317416507539952 1.5619144740707425,7.091838031945681 l2.8515544132668107,3.52865446778172 4.06462082036134,2.893133359230985 l7.032778447279875,1.534154103105142 9.354409612456207,-0.539987689973407 l3.1729873284487273,-2.6022238762343983 2.4734971764392157,-3.122160286635747 l3.6594017164551107,-12.409856166070027 0.1221901784985031,-11.483689212729352 l-1.816700488334512,-6.016488726335429 -2.722487300513122,-4.3967659530324195 l-3.4491181621068914,-3.287193011016896 -4.595994847679439,-3.5079237338129863 l-3.3599799663745515,-1.6220388277167852 -2.8735625100761997,0.1560224526457274 l-3.012657709321082,1.5441680912199924 m-12.002989368287356,10.679984271918574 l0.032795076991188055,-8.53537918673902 0.24675324285355765,-9.744189347666993 l4.4878222129114915,11.776408885932335 2.3464005319865486,3.608543276084024 m15.510476129519382,-11.423678128880194 l2.9987824632500386,-7.8120497658061625 2.0246488737860515,-2.6778617723745857 l1.0023315313178593,-0.9258065085628233 0.8389446919647905,7.354833912913554 l0.8454232485171537,12.689057663337504 m-18.422747192876784,13.925633741171731 l-0.4872663212380139,1.9539215175510216 0.8797029226154,0.5970648735995522 l1.4505731641106283,-0.10203419414536337 0.6585616540166642,0.5803571927908759 l1.2901532674890182,-0.7246787840202054 0.1289850300854902,-2.263177694050767 l-1.3639582344480876,-0.5655398918398491 -0.8071769963871447,1.2519050216404275 l0.061193709643159074,1.8718039322296556 0.9335701039765805,0.634436580808311 l0.8799140398619185,-1.2536229412842455 0.1564355731662192,-0.9102434031426909 l-0.8901902631976996,-1.2555465821062444 -1.4833499845476916,-0.6202907508567237 l-1.2062763806482446,0.35529804023967865 -0.2314462306442225,0.1611016809126059 l0.9552704373939378,0.2702818584628651 m14.146569102181221,-2.1469168993228873 l-1.0558863371152682,1.223268726250595 0.138401079243886,2.126715530652688 l1.0923969988477766,1.3046111352670386 1.2509530200395063,0.031085145335462486 l0.9107165787935165,-0.901162701369779 0.3166561247992076,-0.5757953172146885 l-1.0924493089899685,-0.05392480271712921 -1.4308223978827639,0.7979301553071005 l0.10145716929746626,1.1637099723868256 1.5321891607407805,0.12484099711317541 l1.0692448549610882,-1.1584179902506302 0.13028858748696795,-0.15918564681619396 l-0.502906124257818,1.138081699409907 0.25468113547759696,-0.10105784275382654 l0.25340066659717964,-1.6167774737652545 -0.36922517711630193,0.9461721117185387 l0.08043911835214027,0.091174033601156 0.16158636782045724,-0.6149220695110541 l-0.2593582714237748,-1.8122476057751584 -0.678056515761938,0.690154767353769 l-0.23636257611112868,3.4181221919557974 0.5719317481511064,1.6569327401544314 l1.5572094661300495,2.474111915071195 1.6611313846076097,-0.16664892274142 l0.7546399872150698,-1.1243318880300859 0.07699655275225879,-1.4539448029758133 l-1.6261038024008296,-1.2709227027977805 -2.109864395545572,-0.4167663452159962 l-0.9270755929849911,1.6991945422694836 0.8513846884255697,2.3852639267863593 l1.4782049365729168,-0.011584659894090243 1.1757092890016607,-1.145804673443357 l0.04119915805951141,-1.3279539129401878 -0.8413806866420684,-1.5325355847433013 l-1.0154421398136955,0.6670149337192512 -0.1527002726225402,1.5775587366915411 l1.2002615040501476,0.0064178249256365005 0.5691356538964792,-0.6267348257664307 l-0.5288022302120827,-0.018651496867925013 m-7.61594514249758,9.432676939175341 l-1.7189306579621049,0.6612171091667646 -1.111526390927532,2.5652808777865412 l0.7021778593271621,2.0655244859726922 1.306964733271152,1.4707901710595366 l2.5112119789715117,2.13711534779349 2.0875744364817717,-0.7005304724345457 l0.6745031260686114,-0.20283154811877396 0.891146173281353,-2.252231869598569 l-0.18782154942317858,-2.1416173916243144 -1.6530745678969654,-2.8631430555656094 l-2.554783359760493,-0.8421573919775162 -1.0780194977915436,1.0967647762199282 m1.140566957126951,7.331495073649799 l-0.5035950495068091,6.549077910745817 -1.6193374551357433,-0.16801895221032315 l-4.190877365837373,-3.112172598852987 -1.0825596822563384,-1.5363370637316427 m7.153883257150957,1.4896779113994991 l3.2388221670466266,2.777446422078431 2.3323033251823433,0.8098171360338569 l2.2619618184408816,-0.6089290950132272 1.1859231700529471,-1.4689895661405317 m1.12478858938046,-12.502578697330016 l6.396576491867207,-1.2282935803853463 8.744599455142929,-3.0966817007776415 m-14.809386829809291,7.581298631621092 l3.3927480898855658,-0.7619560145837907 9.475620623971205,-1.569109010861375 m-11.010038647656502,5.3838612516327355 l9.63145234594112,2.4769146482703293 m-34.01959266627835,-6.541793299569336 l-11.28951543768394,-0.2560989534353153 -5.090783382389605,0.3590243575724078 m17.05050475538468,3.11745370860483 l-7.216677637350393,1.3970178660987878 -5.519551173237407,2.2698551300750283 m13.405839832803878,-3.8065325598797717 l-10.002281108154857,4.606307734859103 -4.499926868019862,2.3176179084732063 m0.0,0.0 \" fill=\"none\" stroke=\"black\" stroke-width=\"1\"/></svg>"
      ],
      "text/plain": [
       "<IPython.core.display.SVG object>"
      ]
     },
     "metadata": {},
     "output_type": "display_data"
    }
   ],
   "source": [
    "seq =  g.generate_sketch(generator, latent_to_hidden_state_model, latent, temperature=0.2)\n",
    "draw.draw_strokes(seq, svg_filename=\"results/cat_from_latent.svg\")"
   ]
  }
 ],
 "metadata": {
  "kernelspec": {
   "display_name": ".venv",
   "language": "python",
   "name": ".venv"
  },
  "language_info": {
   "codemirror_mode": {
    "name": "ipython",
    "version": 3
   },
   "file_extension": ".py",
   "mimetype": "text/x-python",
   "name": "python",
   "nbconvert_exporter": "python",
   "pygments_lexer": "ipython3",
   "version": "3.6.8"
  }
 },
 "nbformat": 4,
 "nbformat_minor": 2
}
